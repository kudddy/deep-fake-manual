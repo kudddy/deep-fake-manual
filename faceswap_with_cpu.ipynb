{
  "nbformat": 4,
  "nbformat_minor": 0,
  "metadata": {
    "colab": {
      "name": "faceswap_with_cpu.ipynb",
      "provenance": [],
      "collapsed_sections": [],
      "machine_shape": "hm"
    },
    "kernelspec": {
      "display_name": "Python 3",
      "name": "python3"
    },
    "language_info": {
      "name": "python"
    }
  },
  "cells": [
    {
      "cell_type": "markdown",
      "metadata": {
        "id": "5CxanT-h-T-1"
      },
      "source": [
        "# Ноутбук с описанием шагов по созданию DeepFake видео.\n",
        "\n",
        "Для обучение модели, конвертирования и тд мы будем использовать библиотеку faceswap."
      ]
    },
    {
      "cell_type": "markdown",
      "metadata": {
        "id": "moh7RY-V-xhM"
      },
      "source": [
        "### Сначала подготоим виртуальную машину для работы: \n",
        "Кликните на вкладку \"Среда выполнения\", нажниме на \"Сменить среду выполнения\" и удостоверьтесь что выбран GPU.\n",
        "\n",
        "PS. Бесплатная версия коллаба очень часто обрывает сессию, поэтому если вы хотите быстро получить результат и сэкономить нервы, то возьмите PRO версию. С ней выделяют более мощную видеокарты и обрывают сессию раз в день.\n"
      ]
    },
    {
      "cell_type": "code",
      "metadata": {
        "colab": {
          "base_uri": "https://localhost:8080/"
        },
        "id": "xxPAqHQmFP4t",
        "outputId": "23fafef5-e5a9-4aa0-a0c2-90c7c66bd7bf"
      },
      "source": [
        "# Клонируем репозиторий с библиотекой c помощью которой будем обучать модель.\n",
        "!rm -rf faceswap\n",
        "!git clone https://github.com/kudddy/faceswap.git"
      ],
      "execution_count": null,
      "outputs": [
        {
          "output_type": "stream",
          "name": "stdout",
          "text": [
            "Cloning into 'faceswap'...\n",
            "remote: Enumerating objects: 9743, done.\u001b[K\n",
            "remote: Counting objects: 100% (313/313), done.\u001b[K\n",
            "remote: Compressing objects: 100% (142/142), done.\u001b[K\n",
            "remote: Total 9743 (delta 184), reused 263 (delta 169), pack-reused 9430\u001b[K\n",
            "Receiving objects: 100% (9743/9743), 195.45 MiB | 27.43 MiB/s, done.\n",
            "Resolving deltas: 100% (6799/6799), done.\n"
          ]
        }
      ]
    },
    {
      "cell_type": "code",
      "metadata": {
        "colab": {
          "base_uri": "https://localhost:8080/"
        },
        "id": "yQ5Jfk41aJQB",
        "outputId": "df9a9c3b-b798-4991-c7ac-b15003d3fd42"
      },
      "source": [
        "# на виртуальной машине из под коробки установлена версия tf, которая не совместима с faceswap. Удалим ее\n",
        "pip uninstall tensorflow"
      ],
      "execution_count": null,
      "outputs": [
        {
          "output_type": "stream",
          "name": "stdout",
          "text": [
            "Found existing installation: tensorflow 2.6.0\n",
            "Uninstalling tensorflow-2.6.0:\n",
            "  Would remove:\n",
            "    /usr/local/bin/estimator_ckpt_converter\n",
            "    /usr/local/bin/import_pb_to_tensorboard\n",
            "    /usr/local/bin/saved_model_cli\n",
            "    /usr/local/bin/tensorboard\n",
            "    /usr/local/bin/tf_upgrade_v2\n",
            "    /usr/local/bin/tflite_convert\n",
            "    /usr/local/bin/toco\n",
            "    /usr/local/bin/toco_from_protos\n",
            "    /usr/local/lib/python3.7/dist-packages/tensorflow-2.6.0.dist-info/*\n",
            "    /usr/local/lib/python3.7/dist-packages/tensorflow/*\n",
            "Proceed (y/n)? y\n",
            "  Successfully uninstalled tensorflow-2.6.0\n"
          ]
        }
      ]
    },
    {
      "cell_type": "markdown",
      "metadata": {
        "id": "BQ6W23a5X5tC"
      },
      "source": [
        ""
      ]
    },
    {
      "cell_type": "code",
      "metadata": {
        "colab": {
          "base_uri": "https://localhost:8080/",
          "height": 1000
        },
        "id": "tkiwhkBOFZFz",
        "outputId": "7afa94ee-711f-49dc-f1d6-4c888e6a99e5"
      },
      "source": [
        "# установим список зависимостей. без них faceswap не заработает\n",
        "!pip install -r faceswap/requirements_nvidia.txt"
      ],
      "execution_count": null,
      "outputs": [
        {
          "output_type": "stream",
          "name": "stdout",
          "text": [
            "Collecting git+https://github.com/deepfakes/nvidia-ml-py3.git (from -r faceswap/_requirements_base.txt (line 15))\n",
            "  Cloning https://github.com/deepfakes/nvidia-ml-py3.git to /tmp/pip-req-build-lm1i8a8x\n",
            "  Running command git clone -q https://github.com/deepfakes/nvidia-ml-py3.git /tmp/pip-req-build-lm1i8a8x\n",
            "Ignoring pywin32: markers 'sys_platform == \"win32\"' don't match your environment\n",
            "Ignoring pynvx: markers 'sys_platform == \"darwin\"' don't match your environment\n",
            "Requirement already satisfied: tqdm>=4.42 in /usr/local/lib/python3.7/dist-packages (from -r faceswap/_requirements_base.txt (line 1)) (4.62.3)\n",
            "Collecting psutil>=5.7.0\n",
            "  Downloading psutil-5.8.0-cp37-cp37m-manylinux2010_x86_64.whl (296 kB)\n",
            "\u001b[K     |████████████████████████████████| 296 kB 15.1 MB/s \n",
            "\u001b[?25hRequirement already satisfied: pathlib==1.0.1 in /usr/local/lib/python3.7/dist-packages (from -r faceswap/_requirements_base.txt (line 3)) (1.0.1)\n",
            "Requirement already satisfied: numpy<1.20.0,>=1.18.0 in /usr/local/lib/python3.7/dist-packages (from -r faceswap/_requirements_base.txt (line 4)) (1.19.5)\n",
            "Requirement already satisfied: opencv-python>=4.1.2.0 in /usr/local/lib/python3.7/dist-packages (from -r faceswap/_requirements_base.txt (line 5)) (4.1.2.30)\n",
            "Requirement already satisfied: pillow>=7.0.0 in /usr/local/lib/python3.7/dist-packages (from -r faceswap/_requirements_base.txt (line 6)) (7.1.2)\n",
            "Requirement already satisfied: scikit-learn>=0.22.0 in /usr/local/lib/python3.7/dist-packages (from -r faceswap/_requirements_base.txt (line 7)) (0.22.2.post1)\n",
            "Collecting fastcluster==1.1.26\n",
            "  Downloading fastcluster-1.1.26-cp37-cp37m-manylinux1_x86_64.whl (155 kB)\n",
            "\u001b[K     |████████████████████████████████| 155 kB 62.3 MB/s \n",
            "\u001b[?25hRequirement already satisfied: matplotlib<3.3.0,>=3.0.3 in /usr/local/lib/python3.7/dist-packages (from -r faceswap/_requirements_base.txt (line 10)) (3.2.2)\n",
            "Collecting imageio>=2.8.0\n",
            "  Downloading imageio-2.9.0-py3-none-any.whl (3.3 MB)\n",
            "\u001b[K     |████████████████████████████████| 3.3 MB 51.8 MB/s \n",
            "\u001b[?25hCollecting imageio-ffmpeg>=0.4.2\n",
            "  Downloading imageio_ffmpeg-0.4.5-py3-none-manylinux2010_x86_64.whl (26.9 MB)\n",
            "\u001b[K     |████████████████████████████████| 26.9 MB 1.5 MB/s \n",
            "\u001b[?25hCollecting ffmpy==0.2.3\n",
            "  Downloading ffmpy-0.2.3.tar.gz (4.6 kB)\n",
            "Collecting tensorflow-gpu<2.5.0,>=2.2.0\n",
            "  Downloading tensorflow_gpu-2.4.3-cp37-cp37m-manylinux2010_x86_64.whl (394.5 MB)\n",
            "\u001b[K     |████████████████████████████████| 394.5 MB 545 bytes/s \n",
            "\u001b[?25hRequirement already satisfied: joblib>=0.11 in /usr/local/lib/python3.7/dist-packages (from scikit-learn>=0.22.0->-r faceswap/_requirements_base.txt (line 7)) (1.0.1)\n",
            "Requirement already satisfied: scipy>=0.17.0 in /usr/local/lib/python3.7/dist-packages (from scikit-learn>=0.22.0->-r faceswap/_requirements_base.txt (line 7)) (1.4.1)\n",
            "Requirement already satisfied: pyparsing!=2.0.4,!=2.1.2,!=2.1.6,>=2.0.1 in /usr/local/lib/python3.7/dist-packages (from matplotlib<3.3.0,>=3.0.3->-r faceswap/_requirements_base.txt (line 10)) (2.4.7)\n",
            "Requirement already satisfied: cycler>=0.10 in /usr/local/lib/python3.7/dist-packages (from matplotlib<3.3.0,>=3.0.3->-r faceswap/_requirements_base.txt (line 10)) (0.10.0)\n",
            "Requirement already satisfied: python-dateutil>=2.1 in /usr/local/lib/python3.7/dist-packages (from matplotlib<3.3.0,>=3.0.3->-r faceswap/_requirements_base.txt (line 10)) (2.8.2)\n",
            "Requirement already satisfied: kiwisolver>=1.0.1 in /usr/local/lib/python3.7/dist-packages (from matplotlib<3.3.0,>=3.0.3->-r faceswap/_requirements_base.txt (line 10)) (1.3.2)\n",
            "Requirement already satisfied: protobuf>=3.9.2 in /usr/local/lib/python3.7/dist-packages (from tensorflow-gpu<2.5.0,>=2.2.0->-r faceswap/requirements_nvidia.txt (line 2)) (3.17.3)\n",
            "Collecting h5py~=2.10.0\n",
            "  Downloading h5py-2.10.0-cp37-cp37m-manylinux1_x86_64.whl (2.9 MB)\n",
            "\u001b[K     |████████████████████████████████| 2.9 MB 50.7 MB/s \n",
            "\u001b[?25hRequirement already satisfied: six~=1.15.0 in /usr/local/lib/python3.7/dist-packages (from tensorflow-gpu<2.5.0,>=2.2.0->-r faceswap/requirements_nvidia.txt (line 2)) (1.15.0)\n",
            "Collecting tensorflow-estimator<2.5.0,>=2.4.0\n",
            "  Downloading tensorflow_estimator-2.4.0-py2.py3-none-any.whl (462 kB)\n",
            "\u001b[K     |████████████████████████████████| 462 kB 56.2 MB/s \n",
            "\u001b[?25hRequirement already satisfied: flatbuffers~=1.12.0 in /usr/local/lib/python3.7/dist-packages (from tensorflow-gpu<2.5.0,>=2.2.0->-r faceswap/requirements_nvidia.txt (line 2)) (1.12)\n",
            "Requirement already satisfied: wrapt~=1.12.1 in /usr/local/lib/python3.7/dist-packages (from tensorflow-gpu<2.5.0,>=2.2.0->-r faceswap/requirements_nvidia.txt (line 2)) (1.12.1)\n",
            "Collecting gast==0.3.3\n",
            "  Downloading gast-0.3.3-py2.py3-none-any.whl (9.7 kB)\n",
            "Requirement already satisfied: astunparse~=1.6.3 in /usr/local/lib/python3.7/dist-packages (from tensorflow-gpu<2.5.0,>=2.2.0->-r faceswap/requirements_nvidia.txt (line 2)) (1.6.3)\n",
            "Requirement already satisfied: wheel~=0.35 in /usr/local/lib/python3.7/dist-packages (from tensorflow-gpu<2.5.0,>=2.2.0->-r faceswap/requirements_nvidia.txt (line 2)) (0.37.0)\n",
            "Requirement already satisfied: opt-einsum~=3.3.0 in /usr/local/lib/python3.7/dist-packages (from tensorflow-gpu<2.5.0,>=2.2.0->-r faceswap/requirements_nvidia.txt (line 2)) (3.3.0)\n",
            "Requirement already satisfied: typing-extensions~=3.7.4 in /usr/local/lib/python3.7/dist-packages (from tensorflow-gpu<2.5.0,>=2.2.0->-r faceswap/requirements_nvidia.txt (line 2)) (3.7.4.3)\n",
            "Requirement already satisfied: tensorboard~=2.4 in /usr/local/lib/python3.7/dist-packages (from tensorflow-gpu<2.5.0,>=2.2.0->-r faceswap/requirements_nvidia.txt (line 2)) (2.6.0)\n",
            "Collecting grpcio~=1.32.0\n",
            "  Downloading grpcio-1.32.0-cp37-cp37m-manylinux2014_x86_64.whl (3.8 MB)\n",
            "\u001b[K     |████████████████████████████████| 3.8 MB 50.5 MB/s \n",
            "\u001b[?25hRequirement already satisfied: absl-py~=0.10 in /usr/local/lib/python3.7/dist-packages (from tensorflow-gpu<2.5.0,>=2.2.0->-r faceswap/requirements_nvidia.txt (line 2)) (0.12.0)\n",
            "Requirement already satisfied: google-pasta~=0.2 in /usr/local/lib/python3.7/dist-packages (from tensorflow-gpu<2.5.0,>=2.2.0->-r faceswap/requirements_nvidia.txt (line 2)) (0.2.0)\n",
            "Requirement already satisfied: keras-preprocessing~=1.1.2 in /usr/local/lib/python3.7/dist-packages (from tensorflow-gpu<2.5.0,>=2.2.0->-r faceswap/requirements_nvidia.txt (line 2)) (1.1.2)\n",
            "Requirement already satisfied: termcolor~=1.1.0 in /usr/local/lib/python3.7/dist-packages (from tensorflow-gpu<2.5.0,>=2.2.0->-r faceswap/requirements_nvidia.txt (line 2)) (1.1.0)\n",
            "Requirement already satisfied: tensorboard-data-server<0.7.0,>=0.6.0 in /usr/local/lib/python3.7/dist-packages (from tensorboard~=2.4->tensorflow-gpu<2.5.0,>=2.2.0->-r faceswap/requirements_nvidia.txt (line 2)) (0.6.1)\n",
            "Requirement already satisfied: tensorboard-plugin-wit>=1.6.0 in /usr/local/lib/python3.7/dist-packages (from tensorboard~=2.4->tensorflow-gpu<2.5.0,>=2.2.0->-r faceswap/requirements_nvidia.txt (line 2)) (1.8.0)\n",
            "Requirement already satisfied: werkzeug>=0.11.15 in /usr/local/lib/python3.7/dist-packages (from tensorboard~=2.4->tensorflow-gpu<2.5.0,>=2.2.0->-r faceswap/requirements_nvidia.txt (line 2)) (1.0.1)\n",
            "Requirement already satisfied: setuptools>=41.0.0 in /usr/local/lib/python3.7/dist-packages (from tensorboard~=2.4->tensorflow-gpu<2.5.0,>=2.2.0->-r faceswap/requirements_nvidia.txt (line 2)) (57.4.0)\n",
            "Requirement already satisfied: google-auth<2,>=1.6.3 in /usr/local/lib/python3.7/dist-packages (from tensorboard~=2.4->tensorflow-gpu<2.5.0,>=2.2.0->-r faceswap/requirements_nvidia.txt (line 2)) (1.35.0)\n",
            "Requirement already satisfied: requests<3,>=2.21.0 in /usr/local/lib/python3.7/dist-packages (from tensorboard~=2.4->tensorflow-gpu<2.5.0,>=2.2.0->-r faceswap/requirements_nvidia.txt (line 2)) (2.23.0)\n",
            "Requirement already satisfied: markdown>=2.6.8 in /usr/local/lib/python3.7/dist-packages (from tensorboard~=2.4->tensorflow-gpu<2.5.0,>=2.2.0->-r faceswap/requirements_nvidia.txt (line 2)) (3.3.4)\n",
            "Requirement already satisfied: google-auth-oauthlib<0.5,>=0.4.1 in /usr/local/lib/python3.7/dist-packages (from tensorboard~=2.4->tensorflow-gpu<2.5.0,>=2.2.0->-r faceswap/requirements_nvidia.txt (line 2)) (0.4.6)\n",
            "Requirement already satisfied: pyasn1-modules>=0.2.1 in /usr/local/lib/python3.7/dist-packages (from google-auth<2,>=1.6.3->tensorboard~=2.4->tensorflow-gpu<2.5.0,>=2.2.0->-r faceswap/requirements_nvidia.txt (line 2)) (0.2.8)\n",
            "Requirement already satisfied: cachetools<5.0,>=2.0.0 in /usr/local/lib/python3.7/dist-packages (from google-auth<2,>=1.6.3->tensorboard~=2.4->tensorflow-gpu<2.5.0,>=2.2.0->-r faceswap/requirements_nvidia.txt (line 2)) (4.2.4)\n",
            "Requirement already satisfied: rsa<5,>=3.1.4 in /usr/local/lib/python3.7/dist-packages (from google-auth<2,>=1.6.3->tensorboard~=2.4->tensorflow-gpu<2.5.0,>=2.2.0->-r faceswap/requirements_nvidia.txt (line 2)) (4.7.2)\n",
            "Requirement already satisfied: requests-oauthlib>=0.7.0 in /usr/local/lib/python3.7/dist-packages (from google-auth-oauthlib<0.5,>=0.4.1->tensorboard~=2.4->tensorflow-gpu<2.5.0,>=2.2.0->-r faceswap/requirements_nvidia.txt (line 2)) (1.3.0)\n",
            "Requirement already satisfied: importlib-metadata in /usr/local/lib/python3.7/dist-packages (from markdown>=2.6.8->tensorboard~=2.4->tensorflow-gpu<2.5.0,>=2.2.0->-r faceswap/requirements_nvidia.txt (line 2)) (4.8.1)\n",
            "Requirement already satisfied: pyasn1<0.5.0,>=0.4.6 in /usr/local/lib/python3.7/dist-packages (from pyasn1-modules>=0.2.1->google-auth<2,>=1.6.3->tensorboard~=2.4->tensorflow-gpu<2.5.0,>=2.2.0->-r faceswap/requirements_nvidia.txt (line 2)) (0.4.8)\n",
            "Requirement already satisfied: certifi>=2017.4.17 in /usr/local/lib/python3.7/dist-packages (from requests<3,>=2.21.0->tensorboard~=2.4->tensorflow-gpu<2.5.0,>=2.2.0->-r faceswap/requirements_nvidia.txt (line 2)) (2021.5.30)\n",
            "Requirement already satisfied: chardet<4,>=3.0.2 in /usr/local/lib/python3.7/dist-packages (from requests<3,>=2.21.0->tensorboard~=2.4->tensorflow-gpu<2.5.0,>=2.2.0->-r faceswap/requirements_nvidia.txt (line 2)) (3.0.4)\n",
            "Requirement already satisfied: idna<3,>=2.5 in /usr/local/lib/python3.7/dist-packages (from requests<3,>=2.21.0->tensorboard~=2.4->tensorflow-gpu<2.5.0,>=2.2.0->-r faceswap/requirements_nvidia.txt (line 2)) (2.10)\n",
            "Requirement already satisfied: urllib3!=1.25.0,!=1.25.1,<1.26,>=1.21.1 in /usr/local/lib/python3.7/dist-packages (from requests<3,>=2.21.0->tensorboard~=2.4->tensorflow-gpu<2.5.0,>=2.2.0->-r faceswap/requirements_nvidia.txt (line 2)) (1.24.3)\n",
            "Requirement already satisfied: oauthlib>=3.0.0 in /usr/local/lib/python3.7/dist-packages (from requests-oauthlib>=0.7.0->google-auth-oauthlib<0.5,>=0.4.1->tensorboard~=2.4->tensorflow-gpu<2.5.0,>=2.2.0->-r faceswap/requirements_nvidia.txt (line 2)) (3.1.1)\n",
            "Requirement already satisfied: zipp>=0.5 in /usr/local/lib/python3.7/dist-packages (from importlib-metadata->markdown>=2.6.8->tensorboard~=2.4->tensorflow-gpu<2.5.0,>=2.2.0->-r faceswap/requirements_nvidia.txt (line 2)) (3.6.0)\n",
            "Building wheels for collected packages: nvidia-ml-py3, ffmpy\n",
            "  Building wheel for nvidia-ml-py3 (setup.py) ... \u001b[?25l\u001b[?25hdone\n",
            "  Created wheel for nvidia-ml-py3: filename=nvidia_ml_py3-7.352.1-py3-none-any.whl size=19264 sha256=22a8a95152ac94a7e78fcbd60a15f7bcac9611ae01dc1c2b590bd8266c175d7d\n",
            "  Stored in directory: /tmp/pip-ephem-wheel-cache-nrwddkgg/wheels/85/f2/b0/87f8da8deec8ef66681b5e058f0f337748db2b71025cceca35\n",
            "  Building wheel for ffmpy (setup.py) ... \u001b[?25l\u001b[?25hdone\n",
            "  Created wheel for ffmpy: filename=ffmpy-0.2.3-py3-none-any.whl size=4620 sha256=f5f8daeb4a53bffdea1b3f89c5c44a261843e0dd715d7357779aa552da2c3283\n",
            "  Stored in directory: /root/.cache/pip/wheels/cc/4c/61/29034772158cdfbf9aa51099059a830d89f53f7363589e1425\n",
            "Successfully built nvidia-ml-py3 ffmpy\n",
            "Installing collected packages: grpcio, tensorflow-estimator, h5py, gast, tensorflow-gpu, psutil, nvidia-ml-py3, imageio-ffmpeg, imageio, ffmpy, fastcluster\n",
            "  Attempting uninstall: grpcio\n",
            "    Found existing installation: grpcio 1.41.0\n",
            "    Uninstalling grpcio-1.41.0:\n",
            "      Successfully uninstalled grpcio-1.41.0\n",
            "  Attempting uninstall: tensorflow-estimator\n",
            "    Found existing installation: tensorflow-estimator 2.6.0\n",
            "    Uninstalling tensorflow-estimator-2.6.0:\n",
            "      Successfully uninstalled tensorflow-estimator-2.6.0\n",
            "  Attempting uninstall: h5py\n",
            "    Found existing installation: h5py 3.1.0\n",
            "    Uninstalling h5py-3.1.0:\n",
            "      Successfully uninstalled h5py-3.1.0\n",
            "  Attempting uninstall: gast\n",
            "    Found existing installation: gast 0.4.0\n",
            "    Uninstalling gast-0.4.0:\n",
            "      Successfully uninstalled gast-0.4.0\n",
            "  Attempting uninstall: psutil\n",
            "    Found existing installation: psutil 5.4.8\n",
            "    Uninstalling psutil-5.4.8:\n",
            "      Successfully uninstalled psutil-5.4.8\n",
            "  Attempting uninstall: nvidia-ml-py3\n",
            "    Found existing installation: nvidia-ml-py3 7.352.0\n",
            "    Uninstalling nvidia-ml-py3-7.352.0:\n",
            "      Successfully uninstalled nvidia-ml-py3-7.352.0\n",
            "  Attempting uninstall: imageio\n",
            "    Found existing installation: imageio 2.4.1\n",
            "    Uninstalling imageio-2.4.1:\n",
            "      Successfully uninstalled imageio-2.4.1\n",
            "\u001b[31mERROR: pip's dependency resolver does not currently take into account all the packages that are installed. This behaviour is the source of the following dependency conflicts.\n",
            "albumentations 0.1.12 requires imgaug<0.2.7,>=0.2.5, but you have imgaug 0.2.9 which is incompatible.\u001b[0m\n",
            "Successfully installed fastcluster-1.1.26 ffmpy-0.2.3 gast-0.3.3 grpcio-1.32.0 h5py-2.10.0 imageio-2.9.0 imageio-ffmpeg-0.4.5 nvidia-ml-py3-7.352.1 psutil-5.8.0 tensorflow-estimator-2.4.0 tensorflow-gpu-2.4.3\n"
          ]
        },
        {
          "output_type": "display_data",
          "data": {
            "application/vnd.colab-display-data+json": {
              "pip_warning": {
                "packages": [
                  "psutil"
                ]
              }
            }
          },
          "metadata": {}
        }
      ]
    },
    {
      "cell_type": "code",
      "metadata": {
        "colab": {
          "base_uri": "https://localhost:8080/"
        },
        "id": "99OPt9QFYeEC",
        "outputId": "5c5684ec-9c7a-4f83-9bdf-54e277e9aeb2"
      },
      "source": [
        "# При инициализации новой сессии все данные с виртуальной машины удаляются,  поэтому нам требуется постоянное хранилище.\n",
        "# Это процедура крайне необходима потому что каждый раз заливать данные для обучения слишком долго и нам где то нужно хранить состояния модели.\n",
        "# Сохранять состояние модели требуется для продолжения обучения не с самого начала, а с момента когда оборвалась сессия.\n",
        "from google.colab import drive\n",
        "drive.mount('/content/drive', force_remount=True)"
      ],
      "execution_count": null,
      "outputs": [
        {
          "output_type": "stream",
          "name": "stdout",
          "text": [
            "Mounted at /content/drive\n"
          ]
        }
      ]
    },
    {
      "cell_type": "code",
      "metadata": {
        "colab": {
          "base_uri": "https://localhost:8080/"
        },
        "id": "HhfKSp0i4AiV",
        "outputId": "c36b441a-24c1-471b-b3d9-3c168b840a12"
      },
      "source": [
        "# удостоверимся что google выделила нам виртуальную машину.\n",
        "!nvidia-smi"
      ],
      "execution_count": null,
      "outputs": [
        {
          "output_type": "stream",
          "name": "stdout",
          "text": [
            "Sun Oct 17 13:05:14 2021       \n",
            "+-----------------------------------------------------------------------------+\n",
            "| NVIDIA-SMI 470.74       Driver Version: 460.32.03    CUDA Version: 11.2     |\n",
            "|-------------------------------+----------------------+----------------------+\n",
            "| GPU  Name        Persistence-M| Bus-Id        Disp.A | Volatile Uncorr. ECC |\n",
            "| Fan  Temp  Perf  Pwr:Usage/Cap|         Memory-Usage | GPU-Util  Compute M. |\n",
            "|                               |                      |               MIG M. |\n",
            "|===============================+======================+======================|\n",
            "|   0  Tesla P100-PCIE...  Off  | 00000000:00:04.0 Off |                    0 |\n",
            "| N/A   34C    P0    26W / 250W |      0MiB / 16280MiB |      0%      Default |\n",
            "|                               |                      |                  N/A |\n",
            "+-------------------------------+----------------------+----------------------+\n",
            "                                                                               \n",
            "+-----------------------------------------------------------------------------+\n",
            "| Processes:                                                                  |\n",
            "|  GPU   GI   CI        PID   Type   Process name                  GPU Memory |\n",
            "|        ID   ID                                                   Usage      |\n",
            "|=============================================================================|\n",
            "|  No running processes found                                                 |\n",
            "+-----------------------------------------------------------------------------+\n"
          ]
        }
      ]
    },
    {
      "cell_type": "code",
      "metadata": {
        "id": "MYkFE6SDFjA7"
      },
      "source": [
        ""
      ],
      "execution_count": null,
      "outputs": []
    },
    {
      "cell_type": "code",
      "metadata": {
        "id": "xBuPUtZg_5yf"
      },
      "source": [
        "from os import path, mkdir, listdir\n",
        "from tqdm import tqdm"
      ],
      "execution_count": null,
      "outputs": []
    },
    {
      "cell_type": "code",
      "metadata": {
        "id": "OL7KQLmkF61q"
      },
      "source": [
        "folders = ['face_swap_video', 'faces_swap_photos', 'face_swap_align']\n",
        "def generate_folders_for_exp(test_number: int):\n",
        "    main_path = '/content/drive/MyDrive/faceswap'\n",
        "    exp_path = path.join(main_path, f'test_{test_number}')\n",
        "    if not path.exists(exp_path):\n",
        "        mkdir(exp_path)\n",
        "    for folder in folders:\n",
        "        folder_path = path.join(exp_path, folder)\n",
        "        if not path.exists(folder_path):\n",
        "            mkdir(folder_path)\n",
        "        for name in ['nasty', 'veronika']:\n",
        "            name_path = path.join(folder_path, name)\n",
        "            if not path.exists(name_path):\n",
        "                mkdir(name_path)\n",
        "            for number in ['one', 'two', 'there', 'four', 'five', 'six']:\n",
        "                number_path = path.join(name_path, number)\n",
        "                if not path.exists(number_path):\n",
        "                    mkdir(number_path)"
      ],
      "execution_count": null,
      "outputs": []
    },
    {
      "cell_type": "code",
      "metadata": {
        "id": "EeEcsKEGF-kF"
      },
      "source": [
        "generate_folders_for_exp(4)"
      ],
      "execution_count": null,
      "outputs": []
    },
    {
      "cell_type": "code",
      "metadata": {
        "id": "bDXG3JbLGLu6"
      },
      "source": [
        ""
      ],
      "execution_count": null,
      "outputs": []
    },
    {
      "cell_type": "code",
      "metadata": {
        "id": "ofLbtX4OTWKI"
      },
      "source": [
        "def lol(test_number:int):\n",
        "    image_dir_vm = '/content/images/'\n",
        "    if not path.exists(image_dir_vm):\n",
        "        mkdir(image_dir_vm)\n",
        "    for face in ['A', 'B']:\n",
        "        face_dir = path.join(image_dir_vm, face)\n",
        "        if not path.exists(face_dir):\n",
        "            mkdir(face_dir)\n",
        "    main_path = '/content/drive/MyDrive/faceswap'\n",
        "    exp_path = path.join(main_path, f'test_{test_number}')\n",
        "\n",
        "    for number in tqdm(['one', 'two', 'there', 'four', 'five', 'six']):\n",
        "      paths = path.join(exp_path, 'faces_swap_photos', 'nasty', number)\n",
        "      dir = path.join(image_dir_vm, 'A')\n",
        "      !cp -a '{paths}'/. '{dir}'\n",
        "    \n",
        "    for number in tqdm(['one', 'two', 'there', 'four', 'five', 'six']):\n",
        "      paths = path.join(exp_path, 'faces_swap_photos', 'veronika', number)\n",
        "      dir = path.join(image_dir_vm, 'B')\n",
        "      !cp -a '{paths}'/. '{dir}'\n",
        "  "
      ],
      "execution_count": null,
      "outputs": []
    },
    {
      "cell_type": "markdown",
      "metadata": {
        "id": "PQ_EUon_Xb3f"
      },
      "source": [
        "# Процесс извлечения лиц из исходников видео.\n",
        "\n",
        "Для обучения модели требуется большой массив данных. Желательно HD качества, если есть Blu-ray, то вы только выиграете от этого. Вообщем, чем лучше качество исходников тем лучше. \n",
        "\n",
        "Но реальность такова что достать видео такого качества достаточно сложно, поэтому можно скачать исходники из youtube воспользовавших одним из многочисленных сервисов(я использовал https://ru.savefrom.net). Youtube, к сожалению, сильно сжимает качество, но тем не менее даже с такими данным можно получить более-менее качественный deepfake."
      ]
    },
    {
      "cell_type": "code",
      "metadata": {
        "colab": {
          "base_uri": "https://localhost:8080/"
        },
        "id": "NvVee1CxVozA",
        "outputId": "940a69ae-538c-447a-8d3b-adf15c7bf6ff"
      },
      "source": [
        "# Что делаем? берем видео, видео разбиваем на кадры, в каждом кадре фиксируем лицо, сохраняем фото в папку. Так же алгоритм сгенерирует файл fsa, где хранятся координаты лица в кадре.\n",
        "# Запускаем алгоритм с более менее оптимальными параметрами.\n",
        "test = 4\n",
        "actress = 'veronika'\n",
        "for video_number in ['one', 'two', 'there', 'four', 'five', 'six']:\n",
        "  input_video = f'/content/drive/MyDrive/faceswap/test_{test}/face_swap_video/{actress}/{video_number}/{actress}_{video_number}_norm.mp4'\n",
        "  output_photo = f'/content/drive/MyDrive/faceswap/test_{test}/faces_swap_photos/{actress}/B'\n",
        "  aligments_file = f'/content/drive/MyDrive/faceswap/test_{test}/face_swap_align/{actress}/{video_number}/aligments_2.fsa'\n",
        "  !python3 faceswap/faceswap.py extract \\\n",
        "    -i '{input_video}' \\\n",
        "    -o '{output_photo}' \\\n",
        "    -al '{aligments_file}' \\\n",
        "    -D 's3fd' \\\n",
        "    -A 'fan' \\\n",
        "    -nm 'hist' \\\n",
        "    -een 10\n"
      ],
      "execution_count": 1,
      "outputs": [
        {
          "output_type": "stream",
          "name": "stdout",
          "text": [
            "python3: can't open file 'faceswap/faceswap.py': [Errno 2] No such file or directory\n",
            "python3: can't open file 'faceswap/faceswap.py': [Errno 2] No such file or directory\n",
            "python3: can't open file 'faceswap/faceswap.py': [Errno 2] No such file or directory\n",
            "python3: can't open file 'faceswap/faceswap.py': [Errno 2] No such file or directory\n",
            "python3: can't open file 'faceswap/faceswap.py': [Errno 2] No such file or directory\n",
            "python3: can't open file 'faceswap/faceswap.py': [Errno 2] No such file or directory\n"
          ]
        }
      ]
    },
    {
      "cell_type": "code",
      "metadata": {
        "id": "p3kiW4gBkkTD"
      },
      "source": [
        ""
      ],
      "execution_count": 1,
      "outputs": []
    },
    {
      "cell_type": "markdown",
      "metadata": {
        "id": "EOKdcoycLj7H"
      },
      "source": [
        "# Процесс обучения модели.\n",
        "\n",
        "По времени процесс обычно занимает около 5-6 дней. Но сроки можно смещать в право/влево в зависимости от качества, которое вам нужно. \n",
        "\n",
        "Есть несколько гиперпараметров на которые стоит обратить внимание: \n",
        "ps еще про px рассказать\n",
        "- trainer_type - я ставлю phaze-a, но она очень требовательна к производительности, поэтому можно начать с dfaker\n",
        "- save_model_every - параметр который говорит алгоритм когда сохранять веса модель. Важно задать его чтобы не потерять веса и в случае разрыва сессии начать с конечного момента."
      ]
    },
    {
      "cell_type": "code",
      "metadata": {
        "id": "jZGHwfc2kkcg"
      },
      "source": [
        "# у collab есть забавный баг, который не позволяет получить доступ к папке, где больше 10000 тысяч объектов. \n",
        "# но это можно обойти. Запросы к gdrive кэшируются,  поэтому если запустить,  например, команду ниже, то на третий раз мы получим доступ к папке.\n",
        "# Это важно так как скрипт для обучения модели должен получить доступ к данным.\n",
        "\n",
        "# жмякаем до момента, когда ошибка уйдет\n",
        "len(listdir('/content/drive/MyDrive/faceswap/test_4/faces_swap_photos/nasty/A'))"
      ],
      "execution_count": 5,
      "outputs": []
    },
    {
      "cell_type": "code",
      "metadata": {
        "id": "xksv7qj2Vrch"
      },
      "source": [
        "\"НУЖНО НЕ ЗАБЫТЬ ПОМЕНЯТЬ НАСТРОЙКИ ТРЕЙНА\""
      ],
      "execution_count": null,
      "outputs": []
    },
    {
      "cell_type": "code",
      "metadata": {
        "colab": {
          "base_uri": "https://localhost:8080/"
        },
        "id": "pcsczxhDV6VZ",
        "outputId": "469249d5-9d1b-4143-f07e-928fdbcf76c2"
      },
      "source": [
        "# начинаем процесс обучения\n",
        "num_iterations = \"1000000\"\n",
        "save_every = \"360\"\n",
        "save_model_every = \"25000\"\n",
        "batch_num = \"8\"\n",
        "num_gpus = \"1\"\n",
        "# тип используемой модели. помимо phaze-a можно использовать dfaker,  но она даст менее качественный вариант.\n",
        "trainer_type = \"phaze-a\"\n",
        "\n",
        "# тут мы сохраняем модель\n",
        "model_dir = \"/content/drive/MyDrive/faceswap/test_6/model\"\n",
        "# путь к папке с извлеченными фотографиями из видео  лица 1\n",
        "face_pic_file_a = \"/content/drive/MyDrive/faceswap/test_4/faces_swap_photos/nasty/A\"\n",
        "# путь к папке с извлеченными фотографиями из видео  лица 2\n",
        "face_pic_file_b = \"/content/drive/MyDrive/faceswap/test_4/faces_swap_photos/veronika/B\"\n",
        "# сюда мы сохраняем картинку, где можно наглядно посмотреть на преобразовательную возможность модели.\n",
        "timelapse_dir = \"/content/drive/MyDrive/faceswap/test_6/timelapse\"\n",
        "#set variables end\n",
        "\n",
        "\n",
        "### начнаем процесс обучения.\n",
        "!python3 faceswap/faceswap.py train \\\n",
        "  -A '{face_pic_file_a}' \\\n",
        "  -B '{face_pic_file_b}' \\\n",
        "  -m '{model_dir}' \\\n",
        "  -t '{trainer_type}' \\\n",
        "  -bs '{batch_num}' \\\n",
        "  -it '{num_iterations}' \\\n",
        "  -s '{save_every}' \\\n",
        "  -ss '{save_model_every}' \\\n",
        "  -tia '{face_pic_file_a}' \\\n",
        "  -tib '{face_pic_file_b}' \\\n",
        "  -to '{timelapse_dir}' \\\n",
        "  -w \\\n",
        "  -nw\n",
        "\n",
        "### после 500к - 700к модель должна выдавать приемлемый результат, но для "
      ],
      "execution_count": null,
      "outputs": [
        {
          "output_type": "stream",
          "name": "stdout",
          "text": [
            "First time configuration. Please select the required backend\n",
            "1: AMD, 2: CPU, 3: NVIDIA: 3\n",
            "Faceswap config written to: /content/faceswap/config/.faceswap\n",
            "Setting Faceswap backend to NVIDIA\n",
            "10/11/2021 08:23:04 INFO     Log level set to: INFO\n",
            "10/11/2021 08:23:07 INFO     Model A Directory: '/content/drive/MyDrive/faceswap/test_4/faces_swap_photos/nasty/A' (29375 images)\n",
            "10/11/2021 08:23:07 INFO     Model B Directory: '/content/drive/MyDrive/faceswap/test_4/faces_swap_photos/veronika/B' (27731 images)\n",
            "10/11/2021 08:23:07 INFO     Training data directory: /content/drive/MyDrive/faceswap/test_6/model\n",
            "10/11/2021 08:23:07 INFO     ===================================================\n",
            "10/11/2021 08:23:07 INFO       Starting\n",
            "10/11/2021 08:23:07 INFO       Press 'ENTER' to save and quit\n",
            "10/11/2021 08:23:07 INFO       Press 'S' to save model weights immediately\n",
            "10/11/2021 08:23:07 INFO     ===================================================\n",
            "10/11/2021 08:23:08 INFO     Loading data, this may take a while...\n",
            "10/11/2021 08:23:08 INFO     Loading Model from Phaze_A plugin...\n",
            "10/11/2021 08:23:09 INFO     Config item: 'freeze_layers' has been updated from '[]' to '['keras_encoder']'\n",
            "10/11/2021 08:23:09 INFO     Using configuration saved in state file\n",
            "10/11/2021 08:23:19 INFO     Loaded model from disk: '/content/drive/MyDrive/faceswap/test_6/model/phaze_a.h5'\n",
            "10/11/2021 08:23:19 INFO     Loading Trainer from Original plugin...\n",
            "[08:23:52] [#763201] Loss A: 0.00495, Loss B: 0.00443\n",
            "10/11/2021 08:24:01 INFO     [Saved models] - Average loss since last save: face_a: 0.00495, face_b: 0.00443\n",
            "[08:27:08] [#763560] Loss A: 0.00433, Loss B: 0.00503\n",
            "10/11/2021 08:27:15 INFO     [Saved models] - Average loss since last save: face_a: 0.00486, face_b: 0.00501\n",
            "[08:30:40] [#763920] Loss A: 0.00674, Loss B: 0.00372\n",
            "10/11/2021 08:30:47 INFO     [Saved models] - Average loss since last save: face_a: 0.00467, face_b: 0.00473\n",
            "[08:33:56] [#764280] Loss A: 0.00386, Loss B: 0.00409\n",
            "10/11/2021 08:34:03 INFO     [Saved models] - Average loss since last save: face_a: 0.00464, face_b: 0.00477\n",
            "[08:37:13] [#764640] Loss A: 0.00429, Loss B: 0.00551\n",
            "10/11/2021 08:37:20 INFO     [Saved models] - Average loss since last save: face_a: 0.00468, face_b: 0.00473\n",
            "[08:40:36] [#765000] Loss A: 0.00430, Loss B: 0.00518\n",
            "10/11/2021 08:40:43 INFO     [Saved models] - Average loss since last save: face_a: 0.00479, face_b: 0.00476\n",
            "[08:43:52] [#765360] Loss A: 0.00603, Loss B: 0.00568\n",
            "10/11/2021 08:43:59 INFO     [Saved models] - Average loss since last save: face_a: 0.00487, face_b: 0.00480\n",
            "[08:47:07] [#765720] Loss A: 0.00697, Loss B: 0.00393\n",
            "10/11/2021 08:47:15 INFO     [Saved models] - Average loss since last save: face_a: 0.00477, face_b: 0.00469\n",
            "[08:50:27] [#766080] Loss A: 0.00393, Loss B: 0.00523\n",
            "10/11/2021 08:50:34 INFO     [Saved models] - Average loss since last save: face_a: 0.00480, face_b: 0.00471\n",
            "[08:53:44] [#766440] Loss A: 0.00370, Loss B: 0.00535\n",
            "10/11/2021 08:53:52 INFO     [Saved models] - Average loss since last save: face_a: 0.00519, face_b: 0.00509\n",
            "[08:57:06] [#766800] Loss A: 0.00432, Loss B: 0.00401\n",
            "10/11/2021 08:57:13 INFO     [Saved models] - Average loss since last save: face_a: 0.00463, face_b: 0.00481\n",
            "[09:00:24] [#767160] Loss A: 0.00531, Loss B: 0.00402\n",
            "10/11/2021 09:00:31 INFO     [Saved models] - Average loss since last save: face_a: 0.00471, face_b: 0.00470\n",
            "[09:03:39] [#767520] Loss A: 0.00459, Loss B: 0.00478\n",
            "10/11/2021 09:03:46 INFO     [Saved models] - Average loss since last save: face_a: 0.00527, face_b: 0.00521\n",
            "[09:06:55] [#767880] Loss A: 0.00366, Loss B: 0.00348\n",
            "10/11/2021 09:06:59 INFO     [Saved models] - Average loss since last save: face_a: 0.00464, face_b: 0.00463\n",
            "[09:10:12] [#768240] Loss A: 0.00476, Loss B: 0.00427\n",
            "10/11/2021 09:10:20 INFO     [Saved models] - Average loss since last save: face_a: 0.00484, face_b: 0.00485\n",
            "[09:13:30] [#768600] Loss A: 0.00662, Loss B: 0.00464\n",
            "10/11/2021 09:13:38 INFO     [Saved models] - Average loss since last save: face_a: 0.00460, face_b: 0.00478\n",
            "[09:16:47] [#768960] Loss A: 0.00506, Loss B: 0.00478\n",
            "10/11/2021 09:16:54 INFO     [Saved models] - Average loss since last save: face_a: 0.00479, face_b: 0.00472\n",
            "[09:20:08] [#769320] Loss A: 0.00451, Loss B: 0.00556\n",
            "10/11/2021 09:20:15 INFO     [Saved models] - Average loss since last save: face_a: 0.00459, face_b: 0.00467\n",
            "[09:23:36] [#769680] Loss A: 0.00439, Loss B: 0.00872\n",
            "10/11/2021 09:23:43 INFO     [Saved models] - Average loss since last save: face_a: 0.00489, face_b: 0.00505\n",
            "[09:26:54] [#770040] Loss A: 0.00444, Loss B: 0.00484\n",
            "10/11/2021 09:27:01 INFO     [Saved models] - Average loss since last save: face_a: 0.00465, face_b: 0.00468\n",
            "[09:30:06] [#770400] Loss A: 0.00548, Loss B: 0.00496\n",
            "10/11/2021 09:30:14 INFO     [Saved models] - Average loss since last save: face_a: 0.00468, face_b: 0.00465\n",
            "[09:33:14] [#770760] Loss A: 0.00374, Loss B: 0.00390\n",
            "10/11/2021 09:33:22 INFO     [Saved models] - Average loss since last save: face_a: 0.00473, face_b: 0.00469\n",
            "[09:36:19] [#771120] Loss A: 0.00371, Loss B: 0.00488\n",
            "10/11/2021 09:36:26 INFO     [Saved models] - Average loss since last save: face_a: 0.00477, face_b: 0.00482\n",
            "[09:39:22] [#771480] Loss A: 0.00469, Loss B: 0.00615\n",
            "10/11/2021 09:39:29 INFO     [Saved models] - Average loss since last save: face_a: 0.00463, face_b: 0.00472\n",
            "[09:42:25] [#771840] Loss A: 0.00505, Loss B: 0.00342\n",
            "10/11/2021 09:42:32 INFO     [Saved models] - Average loss since last save: face_a: 0.00470, face_b: 0.00463\n",
            "[09:45:28] [#772200] Loss A: 0.00394, Loss B: 0.00476\n",
            "10/11/2021 09:45:35 INFO     [Saved models] - Average loss since last save: face_a: 0.00472, face_b: 0.00479\n",
            "[09:48:32] [#772560] Loss A: 0.00456, Loss B: 0.00487\n",
            "10/11/2021 09:48:38 INFO     [Saved models] - Average loss since last save: face_a: 0.00459, face_b: 0.00463\n",
            "[09:51:35] [#772920] Loss A: 0.00403, Loss B: 0.00493\n",
            "10/11/2021 09:51:42 INFO     [Saved models] - Average loss since last save: face_a: 0.00480, face_b: 0.00470\n",
            "[09:54:37] [#773280] Loss A: 0.00524, Loss B: 0.00443\n",
            "10/11/2021 09:54:44 INFO     [Saved models] - Average loss since last save: face_a: 0.00464, face_b: 0.00468\n",
            "[09:57:41] [#773640] Loss A: 0.00396, Loss B: 0.00430\n",
            "10/11/2021 09:57:48 INFO     [Saved models] - Average loss since last save: face_a: 0.00470, face_b: 0.00463\n",
            "[10:00:44] [#774000] Loss A: 0.00415, Loss B: 0.00492\n",
            "10/11/2021 10:00:51 INFO     [Saved models] - Average loss since last save: face_a: 0.00474, face_b: 0.00466\n",
            "[10:03:47] [#774360] Loss A: 0.00470, Loss B: 0.00455\n",
            "10/11/2021 10:03:54 INFO     [Saved models] - Average loss since last save: face_a: 0.00467, face_b: 0.00465\n",
            "[10:06:50] [#774720] Loss A: 0.00464, Loss B: 0.00332\n",
            "10/11/2021 10:06:57 INFO     [Saved models] - Average loss since last save: face_a: 0.00489, face_b: 0.00493\n",
            "[10:09:15] [#775001] Loss A: 0.00542, Loss B: 0.00486\n",
            "10/11/2021 10:09:28 INFO     Saved snapshot (775000 iterations)\n",
            "[10:10:07] [#775080] Loss A: 0.00680, Loss B: 0.00331\n",
            "10/11/2021 10:10:12 INFO     [Saved models] - Average loss since last save: face_a: 0.00474, face_b: 0.00468\n",
            "[10:13:08] [#775440] Loss A: 0.00362, Loss B: 0.00440\n",
            "10/11/2021 10:13:15 INFO     [Saved models] - Average loss since last save: face_a: 0.00470, face_b: 0.00472\n",
            "[10:16:11] [#775800] Loss A: 0.00395, Loss B: 0.00642\n",
            "10/11/2021 10:16:18 INFO     [Saved models] - Average loss since last save: face_a: 0.00464, face_b: 0.00467\n",
            "[10:19:14] [#776160] Loss A: 0.00399, Loss B: 0.00536\n",
            "10/11/2021 10:19:21 INFO     [Saved models] - Average loss since last save: face_a: 0.00469, face_b: 0.00466\n",
            "[10:22:18] [#776520] Loss A: 0.00387, Loss B: 0.00411\n",
            "10/11/2021 10:22:25 INFO     [Saved models] - Average loss since last save: face_a: 0.00458, face_b: 0.00470\n",
            "[10:25:21] [#776880] Loss A: 0.00431, Loss B: 0.00448\n",
            "10/11/2021 10:25:28 INFO     [Saved models] - Average loss since last save: face_a: 0.00471, face_b: 0.00480\n",
            "[10:28:25] [#777240] Loss A: 0.00471, Loss B: 0.00505\n",
            "10/11/2021 10:28:30 INFO     [Saved models] - Average loss since last save: face_a: 0.00451, face_b: 0.00455\n",
            "[10:31:34] [#777600] Loss A: 0.00594, Loss B: 0.00454\n",
            "10/11/2021 10:31:41 INFO     [Saved models] - Average loss since last save: face_a: 0.00460, face_b: 0.00473\n",
            "[10:34:39] [#777960] Loss A: 0.00432, Loss B: 0.00568\n",
            "10/11/2021 10:34:46 INFO     [Saved models] - Average loss since last save: face_a: 0.00469, face_b: 0.00485\n",
            "[10:37:43] [#778320] Loss A: 0.00430, Loss B: 0.00466\n",
            "10/11/2021 10:37:50 INFO     [Saved models] - Average loss since last save: face_a: 0.00457, face_b: 0.00464\n",
            "[10:40:47] [#778680] Loss A: 0.00527, Loss B: 0.00448\n",
            "10/11/2021 10:40:54 INFO     [Saved models] - Average loss since last save: face_a: 0.00466, face_b: 0.00466\n",
            "[10:43:51] [#779040] Loss A: 0.00414, Loss B: 0.00472\n",
            "10/11/2021 10:43:58 INFO     [Saved models] - Average loss since last save: face_a: 0.00466, face_b: 0.00457\n",
            "[10:46:56] [#779400] Loss A: 0.00392, Loss B: 0.00541\n",
            "10/11/2021 10:47:03 INFO     [Saved models] - Average loss since last save: face_a: 0.00479, face_b: 0.00468\n",
            "[10:50:00] [#779760] Loss A: 0.00478, Loss B: 0.00408\n",
            "10/11/2021 10:50:06 INFO     [Saved models] - Average loss since last save: face_a: 0.00442, face_b: 0.00456\n",
            "[10:53:03] [#780120] Loss A: 0.00541, Loss B: 0.00511\n",
            "10/11/2021 10:53:10 INFO     [Saved models] - Average loss since last save: face_a: 0.00466, face_b: 0.00469\n",
            "[10:56:06] [#780480] Loss A: 0.00388, Loss B: 0.00389\n",
            "10/11/2021 10:56:17 INFO     [Saved models] - Average loss since last save: face_a: 0.00463, face_b: 0.00463\n",
            "[10:59:12] [#780840] Loss A: 0.00383, Loss B: 0.00390\n",
            "10/11/2021 10:59:20 INFO     [Saved models] - Average loss since last save: face_a: 0.00459, face_b: 0.00466\n",
            "[11:02:16] [#781200] Loss A: 0.00380, Loss B: 0.00621\n",
            "10/11/2021 11:02:24 INFO     [Saved models] - Average loss since last save: face_a: 0.00465, face_b: 0.00467\n",
            "[11:05:21] [#781560] Loss A: 0.00502, Loss B: 0.00611\n",
            "10/11/2021 11:05:29 INFO     [Saved models] - Average loss since last save: face_a: 0.00451, face_b: 0.00457\n",
            "[11:08:26] [#781920] Loss A: 0.00512, Loss B: 0.00362\n",
            "10/11/2021 11:08:33 INFO     [Saved models] - Average loss since last save: face_a: 0.00461, face_b: 0.00472\n",
            "[11:11:29] [#782280] Loss A: 0.00341, Loss B: 0.00476\n",
            "10/11/2021 11:11:36 INFO     [Saved models] - Average loss since last save: face_a: 0.00474, face_b: 0.00483\n",
            "[11:14:33] [#782640] Loss A: 0.00339, Loss B: 0.00510\n",
            "10/11/2021 11:14:38 INFO     [Saved models] - Average loss since last save: face_a: 0.00450, face_b: 0.00453\n",
            "[11:17:40] [#783000] Loss A: 0.00495, Loss B: 0.00360\n",
            "10/11/2021 11:17:48 INFO     [Saved models] - Average loss since last save: face_a: 0.00465, face_b: 0.00465\n",
            "[11:20:45] [#783360] Loss A: 0.00477, Loss B: 0.00575\n",
            "10/11/2021 11:20:52 INFO     [Saved models] - Average loss since last save: face_a: 0.00449, face_b: 0.00453\n",
            "[11:23:49] [#783720] Loss A: 0.00530, Loss B: 0.00333\n",
            "10/11/2021 11:23:56 INFO     [Saved models] - Average loss since last save: face_a: 0.00446, face_b: 0.00464\n",
            "[11:26:54] [#784080] Loss A: 0.00417, Loss B: 0.00435\n",
            "10/11/2021 11:27:01 INFO     [Saved models] - Average loss since last save: face_a: 0.00457, face_b: 0.00450\n",
            "[11:29:59] [#784440] Loss A: 0.00540, Loss B: 0.00427\n",
            "10/11/2021 11:30:06 INFO     [Saved models] - Average loss since last save: face_a: 0.00468, face_b: 0.00465\n",
            "[11:33:04] [#784800] Loss A: 0.00519, Loss B: 0.00460\n",
            "10/11/2021 11:33:10 INFO     [Saved models] - Average loss since last save: face_a: 0.00464, face_b: 0.00466\n",
            "[11:36:07] [#785160] Loss A: 0.00556, Loss B: 0.00404\n",
            "10/11/2021 11:36:14 INFO     [Saved models] - Average loss since last save: face_a: 0.00453, face_b: 0.00480\n",
            "[11:39:13] [#785520] Loss A: 0.00478, Loss B: 0.00407\n",
            "10/11/2021 11:39:20 INFO     [Saved models] - Average loss since last save: face_a: 0.00453, face_b: 0.00460\n",
            "[11:42:17] [#785880] Loss A: 0.00450, Loss B: 0.00446\n",
            "10/11/2021 11:42:24 INFO     [Saved models] - Average loss since last save: face_a: 0.00459, face_b: 0.00455\n",
            "[11:45:22] [#786240] Loss A: 0.00467, Loss B: 0.00541\n",
            "10/11/2021 11:45:29 INFO     [Saved models] - Average loss since last save: face_a: 0.00455, face_b: 0.00470\n",
            "[11:48:26] [#786600] Loss A: 0.00436, Loss B: 0.00533\n",
            "10/11/2021 11:48:33 INFO     [Saved models] - Average loss since last save: face_a: 0.00475, face_b: 0.00472\n",
            "[11:51:30] [#786960] Loss A: 0.00499, Loss B: 0.00364\n",
            "10/11/2021 11:51:37 INFO     [Saved models] - Average loss since last save: face_a: 0.00453, face_b: 0.00448\n",
            "[11:54:33] [#787320] Loss A: 0.00495, Loss B: 0.00340\n",
            "10/11/2021 11:54:40 INFO     [Saved models] - Average loss since last save: face_a: 0.00463, face_b: 0.00466\n",
            "[11:57:37] [#787680] Loss A: 0.00389, Loss B: 0.00499\n",
            "10/11/2021 11:57:44 INFO     [Saved models] - Average loss since last save: face_a: 0.00471, face_b: 0.00490\n",
            "[12:00:42] [#788040] Loss A: 0.00360, Loss B: 0.00393\n",
            "10/11/2021 12:00:47 INFO     [Saved models] - Average loss since last save: face_a: 0.00440, face_b: 0.00447\n",
            "[12:03:47] [#788400] Loss A: 0.00768, Loss B: 0.00731\n",
            "10/11/2021 12:03:54 INFO     [Saved models] - Average loss since last save: face_a: 0.00459, face_b: 0.00457\n",
            "[12:06:51] [#788760] Loss A: 0.00564, Loss B: 0.00450\n",
            "10/11/2021 12:06:58 INFO     [Saved models] - Average loss since last save: face_a: 0.00463, face_b: 0.00468\n",
            "[12:09:56] [#789120] Loss A: 0.00341, Loss B: 0.00444\n",
            "10/11/2021 12:10:03 INFO     [Saved models] - Average loss since last save: face_a: 0.00458, face_b: 0.00463\n",
            "[12:13:01] [#789480] Loss A: 0.00322, Loss B: 0.00515\n",
            "10/11/2021 12:13:08 INFO     [Saved models] - Average loss since last save: face_a: 0.00447, face_b: 0.00452\n",
            "[12:16:05] [#789840] Loss A: 0.00452, Loss B: 0.00280\n",
            "10/11/2021 12:16:12 INFO     [Saved models] - Average loss since last save: face_a: 0.00456, face_b: 0.00456\n",
            "[12:19:09] [#790200] Loss A: 0.00385, Loss B: 0.00483\n",
            "10/11/2021 12:19:16 INFO     [Saved models] - Average loss since last save: face_a: 0.00444, face_b: 0.00452\n",
            "[12:22:14] [#790560] Loss A: 0.00534, Loss B: 0.00443\n",
            "10/11/2021 12:22:21 INFO     [Saved models] - Average loss since last save: face_a: 0.00466, face_b: 0.00452\n",
            "[12:25:18] [#790920] Loss A: 0.00313, Loss B: 0.00439\n",
            "10/11/2021 12:25:27 INFO     [Saved models] - Average loss since last save: face_a: 0.00474, face_b: 0.00467\n",
            "[12:28:25] [#791280] Loss A: 0.00433, Loss B: 0.00410\n",
            "10/11/2021 12:28:32 INFO     [Saved models] - Average loss since last save: face_a: 0.00461, face_b: 0.00463\n",
            "[12:31:29] [#791640] Loss A: 0.00485, Loss B: 0.00399\n",
            "10/11/2021 12:31:37 INFO     [Saved models] - Average loss since last save: face_a: 0.00436, face_b: 0.00451\n",
            "[12:34:35] [#792000] Loss A: 0.00417, Loss B: 0.00408\n",
            "10/11/2021 12:34:42 INFO     [Saved models] - Average loss since last save: face_a: 0.00461, face_b: 0.00458\n",
            "[12:37:38] [#792360] Loss A: 0.00515, Loss B: 0.00347\n",
            "10/11/2021 12:37:45 INFO     [Saved models] - Average loss since last save: face_a: 0.00437, face_b: 0.00449\n",
            "[12:40:43] [#792720] Loss A: 0.00474, Loss B: 0.00402\n",
            "10/11/2021 12:40:50 INFO     [Saved models] - Average loss since last save: face_a: 0.00459, face_b: 0.00458\n",
            "[12:43:48] [#793080] Loss A: 0.00415, Loss B: 0.00521\n",
            "10/11/2021 12:43:55 INFO     [Saved models] - Average loss since last save: face_a: 0.00464, face_b: 0.00453\n",
            "[12:46:53] [#793440] Loss A: 0.00425, Loss B: 0.00390\n",
            "10/11/2021 12:47:00 INFO     [Saved models] - Average loss since last save: face_a: 0.00440, face_b: 0.00437\n",
            "[12:49:57] [#793800] Loss A: 0.00510, Loss B: 0.00630\n",
            "10/11/2021 12:50:04 INFO     [Saved models] - Average loss since last save: face_a: 0.00463, face_b: 0.00451\n",
            "[12:52:59] [#794160] Loss A: 0.00401, Loss B: 0.00489\n",
            "10/11/2021 12:53:06 INFO     [Saved models] - Average loss since last save: face_a: 0.00452, face_b: 0.00447\n",
            "[12:56:03] [#794520] Loss A: 0.00987, Loss B: 0.00975\n",
            "10/11/2021 12:56:10 INFO     [Saved models] - Average loss since last save: face_a: 0.00451, face_b: 0.00464\n",
            "[12:59:07] [#794880] Loss A: 0.00263, Loss B: 0.00371\n",
            "10/11/2021 12:59:13 INFO     [Saved models] - Average loss since last save: face_a: 0.00444, face_b: 0.00451\n",
            "[13:02:10] [#795240] Loss A: 0.00476, Loss B: 0.00412\n",
            "10/11/2021 13:02:17 INFO     [Saved models] - Average loss since last save: face_a: 0.00469, face_b: 0.00462\n",
            "[13:05:13] [#795600] Loss A: 0.00372, Loss B: 0.00336\n",
            "10/11/2021 13:05:21 INFO     [Saved models] - Average loss since last save: face_a: 0.00454, face_b: 0.00458\n",
            "[13:08:19] [#795960] Loss A: 0.00438, Loss B: 0.00557\n",
            "10/11/2021 13:08:26 INFO     [Saved models] - Average loss since last save: face_a: 0.00446, face_b: 0.00447\n",
            "[13:11:24] [#796320] Loss A: 0.00309, Loss B: 0.00439\n",
            "10/11/2021 13:11:31 INFO     [Saved models] - Average loss since last save: face_a: 0.00448, face_b: 0.00455\n",
            "[13:14:28] [#796680] Loss A: 0.00505, Loss B: 0.00473\n",
            "10/11/2021 13:14:36 INFO     [Saved models] - Average loss since last save: face_a: 0.00446, face_b: 0.00454\n",
            "[13:17:33] [#797040] Loss A: 0.00441, Loss B: 0.00476\n",
            "10/11/2021 13:17:40 INFO     [Saved models] - Average loss since last save: face_a: 0.00458, face_b: 0.00462\n",
            "[13:20:37] [#797400] Loss A: 0.00442, Loss B: 0.00482\n",
            "10/11/2021 13:20:44 INFO     [Saved models] - Average loss since last save: face_a: 0.00449, face_b: 0.00452\n",
            "[13:23:41] [#797760] Loss A: 0.00667, Loss B: 0.00422\n",
            "10/11/2021 13:23:49 INFO     [Saved models] - Average loss since last save: face_a: 0.00447, face_b: 0.00459\n",
            "[13:26:47] [#798120] Loss A: 0.00601, Loss B: 0.00475\n",
            "10/11/2021 13:26:54 INFO     [Saved models] - Average loss since last save: face_a: 0.00444, face_b: 0.00451\n",
            "[13:29:52] [#798480] Loss A: 0.00430, Loss B: 0.00444\n",
            "10/11/2021 13:29:59 INFO     [Saved models] - Average loss since last save: face_a: 0.00445, face_b: 0.00453\n",
            "[13:32:55] [#798840] Loss A: 0.00312, Loss B: 0.00434\n",
            "10/11/2021 13:33:03 INFO     [Saved models] - Average loss since last save: face_a: 0.00451, face_b: 0.00451\n",
            "[13:36:01] [#799200] Loss A: 0.00471, Loss B: 0.00496\n",
            "10/11/2021 13:36:06 INFO     [Saved models] - Average loss since last save: face_a: 0.00438, face_b: 0.00447\n",
            "[13:39:12] [#799560] Loss A: 0.00461, Loss B: 0.00360\n",
            "10/11/2021 13:39:19 INFO     [Saved models] - Average loss since last save: face_a: 0.00455, face_b: 0.00461\n",
            "[13:42:18] [#799920] Loss A: 0.00386, Loss B: 0.00680\n",
            "10/11/2021 13:42:25 INFO     [Saved models] - Average loss since last save: face_a: 0.00443, face_b: 0.00448\n",
            "[13:43:06] [#800001] Loss A: 0.00485, Loss B: 0.00348\n",
            "10/11/2021 13:43:11 INFO     Saved snapshot (800000 iterations)\n",
            "[13:45:30] [#800280] Loss A: 0.00449, Loss B: 0.00415\n",
            "10/11/2021 13:45:35 INFO     [Saved models] - Average loss since last save: face_a: 0.00447, face_b: 0.00448\n",
            "[13:48:33] [#800640] Loss A: 0.00403, Loss B: 0.00490\n",
            "10/11/2021 13:48:40 INFO     [Saved models] - Average loss since last save: face_a: 0.00432, face_b: 0.00448\n",
            "[13:51:39] [#801000] Loss A: 0.00479, Loss B: 0.00442\n",
            "10/11/2021 13:51:48 INFO     [Saved models] - Average loss since last save: face_a: 0.00442, face_b: 0.00447\n",
            "[13:54:47] [#801360] Loss A: 0.00554, Loss B: 0.00478\n",
            "10/11/2021 13:54:54 INFO     [Saved models] - Average loss since last save: face_a: 0.00465, face_b: 0.00470\n",
            "[13:57:51] [#801720] Loss A: 0.00432, Loss B: 0.00485\n",
            "10/11/2021 13:57:56 INFO     [Saved models] - Average loss since last save: face_a: 0.00433, face_b: 0.00445\n",
            "[14:00:57] [#802080] Loss A: 0.00464, Loss B: 0.00453\n",
            "10/11/2021 14:01:04 INFO     [Saved models] - Average loss since last save: face_a: 0.00448, face_b: 0.00441\n",
            "[14:04:01] [#802440] Loss A: 0.00334, Loss B: 0.00574\n",
            "10/11/2021 14:04:07 INFO     [Saved models] - Average loss since last save: face_a: 0.00442, face_b: 0.00446\n",
            "[14:07:04] [#802800] Loss A: 0.00494, Loss B: 0.00499\n",
            "10/11/2021 14:07:11 INFO     [Saved models] - Average loss since last save: face_a: 0.00448, face_b: 0.00459\n",
            "[14:10:10] [#803160] Loss A: 0.00481, Loss B: 0.00513\n",
            "10/11/2021 14:10:17 INFO     [Saved models] - Average loss since last save: face_a: 0.00444, face_b: 0.00442\n",
            "[14:13:16] [#803520] Loss A: 0.00496, Loss B: 0.00357\n",
            "10/11/2021 14:13:24 INFO     [Saved models] - Average loss since last save: face_a: 0.00444, face_b: 0.00455\n",
            "[14:16:22] [#803880] Loss A: 0.00522, Loss B: 0.00425\n",
            "10/11/2021 14:16:29 INFO     [Saved models] - Average loss since last save: face_a: 0.00435, face_b: 0.00440\n",
            "[14:19:27] [#804240] Loss A: 0.00447, Loss B: 0.00436\n",
            "10/11/2021 14:19:34 INFO     [Saved models] - Average loss since last save: face_a: 0.00458, face_b: 0.00459\n",
            "[14:22:32] [#804600] Loss A: 0.00468, Loss B: 0.00506\n",
            "10/11/2021 14:22:38 INFO     [Saved models] - Average loss since last save: face_a: 0.00445, face_b: 0.00436\n",
            "[14:25:36] [#804960] Loss A: 0.00321, Loss B: 0.00504\n",
            "10/11/2021 14:25:43 INFO     [Saved models] - Average loss since last save: face_a: 0.00450, face_b: 0.00455\n",
            "[14:28:41] [#805320] Loss A: 0.00385, Loss B: 0.00415\n",
            "10/11/2021 14:28:47 INFO     [Saved models] - Average loss since last save: face_a: 0.00440, face_b: 0.00444\n",
            "[14:31:45] [#805680] Loss A: 0.00505, Loss B: 0.00430\n",
            "10/11/2021 14:31:52 INFO     [Saved models] - Average loss since last save: face_a: 0.00443, face_b: 0.00446\n",
            "[14:34:49] [#806040] Loss A: 0.00417, Loss B: 0.00431\n",
            "10/11/2021 14:34:56 INFO     [Saved models] - Average loss since last save: face_a: 0.00452, face_b: 0.00452\n",
            "[14:37:53] [#806400] Loss A: 0.00577, Loss B: 0.00425\n",
            "10/11/2021 14:38:00 INFO     [Saved models] - Average loss since last save: face_a: 0.00445, face_b: 0.00438\n",
            "[14:40:57] [#806760] Loss A: 0.00411, Loss B: 0.00459\n",
            "10/11/2021 14:41:04 INFO     [Saved models] - Average loss since last save: face_a: 0.00448, face_b: 0.00443\n",
            "[14:44:02] [#807120] Loss A: 0.00420, Loss B: 0.00401\n",
            "10/11/2021 14:44:10 INFO     [Saved models] - Average loss since last save: face_a: 0.00435, face_b: 0.00440\n",
            "[14:47:07] [#807480] Loss A: 0.00475, Loss B: 0.00424\n",
            "10/11/2021 14:47:14 INFO     [Saved models] - Average loss since last save: face_a: 0.00444, face_b: 0.00462\n",
            "[14:50:14] [#807840] Loss A: 0.00486, Loss B: 0.00466\n",
            "10/11/2021 14:50:21 INFO     [Saved models] - Average loss since last save: face_a: 0.00429, face_b: 0.00451\n",
            "[14:53:20] [#808200] Loss A: 0.00476, Loss B: 0.00459\n",
            "10/11/2021 14:53:25 INFO     [Saved models] - Average loss since last save: face_a: 0.00427, face_b: 0.00436\n",
            "[14:56:27] [#808560] Loss A: 0.00380, Loss B: 0.00427\n",
            "10/11/2021 14:56:34 INFO     [Saved models] - Average loss since last save: face_a: 0.00456, face_b: 0.00457\n",
            "[14:59:33] [#808920] Loss A: 0.00457, Loss B: 0.00451\n",
            "10/11/2021 14:59:42 INFO     [Saved models] - Average loss since last save: face_a: 0.00443, face_b: 0.00443\n",
            "[15:02:41] [#809280] Loss A: 0.00431, Loss B: 0.00413\n",
            "10/11/2021 15:02:49 INFO     [Saved models] - Average loss since last save: face_a: 0.00446, face_b: 0.00453\n",
            "[15:05:48] [#809640] Loss A: 0.00541, Loss B: 0.00247\n",
            "10/11/2021 15:05:55 INFO     [Saved models] - Average loss since last save: face_a: 0.00436, face_b: 0.00440\n",
            "[15:08:55] [#810000] Loss A: 0.00450, Loss B: 0.00479\n",
            "10/11/2021 15:09:02 INFO     [Saved models] - Average loss since last save: face_a: 0.00442, face_b: 0.00449\n",
            "[15:12:00] [#810360] Loss A: 0.01724, Loss B: 0.00628\n",
            "10/11/2021 15:12:07 INFO     [Saved models] - Average loss since last save: face_a: 0.00474, face_b: 0.00472\n",
            "[15:15:06] [#810720] Loss A: 0.00548, Loss B: 0.00532\n",
            "10/11/2021 15:15:13 INFO     [Saved models] - Average loss since last save: face_a: 0.00434, face_b: 0.00435\n",
            "[15:18:12] [#811080] Loss A: 0.00454, Loss B: 0.00432\n",
            "10/11/2021 15:18:19 INFO     [Saved models] - Average loss since last save: face_a: 0.00436, face_b: 0.00447\n",
            "[15:21:18] [#811440] Loss A: 0.00434, Loss B: 0.00557\n",
            "10/11/2021 15:21:25 INFO     [Saved models] - Average loss since last save: face_a: 0.00430, face_b: 0.00447\n",
            "[15:24:24] [#811800] Loss A: 0.00426, Loss B: 0.00508\n",
            "10/11/2021 15:24:30 INFO     [Saved models] - Average loss since last save: face_a: 0.00437, face_b: 0.00442\n",
            "[15:27:29] [#812160] Loss A: 0.00376, Loss B: 0.00553\n",
            "10/11/2021 15:27:36 INFO     [Saved models] - Average loss since last save: face_a: 0.00449, face_b: 0.00441\n",
            "[15:30:34] [#812520] Loss A: 0.00415, Loss B: 0.00361\n",
            "10/11/2021 15:30:41 INFO     [Saved models] - Average loss since last save: face_a: 0.00429, face_b: 0.00438\n",
            "[15:33:41] [#812880] Loss A: 0.00640, Loss B: 0.00408\n",
            "10/11/2021 15:33:48 INFO     [Saved models] - Average loss since last save: face_a: 0.00441, face_b: 0.00441\n",
            "[15:36:48] [#813240] Loss A: 0.00336, Loss B: 0.00443\n",
            "10/11/2021 15:36:55 INFO     [Saved models] - Average loss since last save: face_a: 0.00431, face_b: 0.00445\n",
            "[15:39:54] [#813600] Loss A: 0.00376, Loss B: 0.00411\n",
            "10/11/2021 15:40:01 INFO     [Saved models] - Average loss since last save: face_a: 0.00449, face_b: 0.00436\n",
            "[15:42:58] [#813960] Loss A: 0.00567, Loss B: 0.00441\n",
            "10/11/2021 15:43:05 INFO     [Saved models] - Average loss since last save: face_a: 0.00427, face_b: 0.00446\n",
            "[15:46:03] [#814320] Loss A: 0.00533, Loss B: 0.00442\n",
            "10/11/2021 15:46:10 INFO     [Saved models] - Average loss since last save: face_a: 0.00438, face_b: 0.00440\n",
            "[15:49:07] [#814680] Loss A: 0.00402, Loss B: 0.00440\n",
            "10/11/2021 15:49:14 INFO     [Saved models] - Average loss since last save: face_a: 0.00457, face_b: 0.00460\n",
            "[15:52:12] [#815040] Loss A: 0.00472, Loss B: 0.00445\n",
            "10/11/2021 15:52:19 INFO     [Saved models] - Average loss since last save: face_a: 0.00429, face_b: 0.00436\n",
            "[15:55:16] [#815400] Loss A: 0.00411, Loss B: 0.00384\n",
            "10/11/2021 15:55:23 INFO     [Saved models] - Average loss since last save: face_a: 0.00440, face_b: 0.00449\n",
            "[15:58:20] [#815760] Loss A: 0.00375, Loss B: 0.00485\n",
            "10/11/2021 15:58:27 INFO     [Saved models] - Average loss since last save: face_a: 0.00451, face_b: 0.00454\n",
            "[16:01:24] [#816120] Loss A: 0.00460, Loss B: 0.00598\n",
            "10/11/2021 16:01:31 INFO     [Saved models] - Average loss since last save: face_a: 0.00430, face_b: 0.00443\n",
            "[16:04:28] [#816480] Loss A: 0.00498, Loss B: 0.00498\n",
            "10/11/2021 16:04:35 INFO     [Saved models] - Average loss since last save: face_a: 0.00437, face_b: 0.00440\n",
            "[16:07:32] [#816840] Loss A: 0.00416, Loss B: 0.00433\n",
            "10/11/2021 16:07:39 INFO     [Saved models] - Average loss since last save: face_a: 0.00438, face_b: 0.00440\n",
            "[16:10:36] [#817200] Loss A: 0.00383, Loss B: 0.00330\n",
            "10/11/2021 16:10:43 INFO     [Saved models] - Average loss since last save: face_a: 0.00430, face_b: 0.00441\n",
            "[16:12:01] [#817356] Loss A: 0.00500, Loss B: 0.00392"
          ]
        }
      ]
    },
    {
      "cell_type": "code",
      "metadata": {
        "colab": {
          "base_uri": "https://localhost:8080/"
        },
        "id": "YdfvqVFIsm-S",
        "outputId": "1ef6d9e8-1f4f-453f-dba4-528acc5fb002"
      },
      "source": [
        "!python3 faceswap/faceswap.py extract -i '/content/drive/MyDrive/faceswap/test_one/face_swap_video/nasty/nasty_for_convert.mp4' -o '/content/drive/MyDrive/faceswap/test_one/faces_swap_photos/nasty_for_convert' -al '/content/drive/MyDrive/faceswap/test_one/face_swap_align/nasty_for_convert' -D 's3fd' -A 'fan' -nm 'hist'"
      ],
      "execution_count": null,
      "outputs": [
        {
          "name": "stdout",
          "output_type": "stream",
          "text": [
            "Setting Faceswap backend to NVIDIA\n",
            "09/28/2021 07:53:22 INFO     Log level set to: INFO\n",
            "09/28/2021 07:53:27 INFO     Output Directory: /content/drive/MyDrive/faceswap/test_one/faces_swap_photos/nasty_for_convert\n",
            "09/28/2021 07:53:28 INFO     Loading Detect from S3Fd plugin...\n",
            "09/28/2021 07:53:28 INFO     Downloading model: 's3fd_keras' from: https://github.com/deepfakes-models/faceswap-models/releases/download/v1.11.2/s3fd_keras_v2.zip\n",
            "Downloading: 100% 11.3M/11.3M [00:00<00:00, 60.0MB/s]\n",
            "09/28/2021 07:53:29 INFO     Extracting: 's3fd_keras'\n",
            "Decompressing: 100% 85.8M/85.8M [00:00<00:00, 92.6MB/s]\n",
            "09/28/2021 07:53:30 INFO     Loading Align from Fan plugin...\n",
            "09/28/2021 07:53:30 INFO     Downloading model: 'face-alignment-network_2d4_keras' from: https://github.com/deepfakes-models/faceswap-models/releases/download/v1.13.2/face-alignment-network_2d4_keras_v2.zip\n",
            "Downloading: 100% 84.7M/84.7M [00:01<00:00, 71.2MB/s]\n",
            "09/28/2021 07:53:31 INFO     Extracting: 'face-alignment-network_2d4_keras'\n",
            "Decompressing: 100% 93.0M/93.0M [00:01<00:00, 59.2MB/s]\n",
            "09/28/2021 07:53:33 INFO     Loading Mask from Components plugin...\n",
            "09/28/2021 07:53:33 INFO     Loading Mask from Extended plugin...\n",
            "09/28/2021 07:53:33 INFO     Starting, this may take a while...\n",
            "09/28/2021 07:53:33 INFO     Initializing S3FD (Detect)...\n",
            "09/28/2021 07:53:36 INFO     Initialized S3FD (Detect) with batchsize of 4\n",
            "09/28/2021 07:53:36 INFO     Initializing FAN (Align)...\n",
            "09/28/2021 07:53:57 INFO     Initialized FAN (Align) with batchsize of 12\n",
            "09/28/2021 07:53:57 INFO     Initializing Components (Mask)...\n",
            "09/28/2021 07:53:57 INFO     Initialized Components (Mask) with batchsize of 1\n",
            "09/28/2021 07:53:57 INFO     Initializing Extended (Mask)...\n",
            "09/28/2021 07:53:57 INFO     Initialized Extended (Mask) with batchsize of 1\n",
            "Running pass 1 of 1: Extraction: 100% 1722/1723 [03:51<00:00,  7.45it/s]\n",
            "09/28/2021 07:57:48 INFO     Writing alignments to: '/content/drive/MyDrive/faceswap/test_one/face_swap_align/nasty_for_convert.fsa'\n",
            "09/28/2021 07:57:48 INFO     -------------------------\n",
            "09/28/2021 07:57:48 INFO     Images found:        1723\n",
            "09/28/2021 07:57:48 INFO     Faces detected:      1722\n",
            "09/28/2021 07:57:48 INFO     -------------------------\n",
            "09/28/2021 07:57:48 INFO     Process Succesfully Completed. Shutting Down...\n"
          ]
        }
      ]
    },
    {
      "cell_type": "code",
      "metadata": {
        "colab": {
          "base_uri": "https://localhost:8080/"
        },
        "id": "whqmbod1ZNpM",
        "outputId": "43927984-b130-4ef2-94d8-247b5933a4d9"
      },
      "source": [
        "!python3 faceswap/faceswap.py convert \\\n",
        "  -m '/content/drive/MyDrive/faceswap/test_one/model' \\\n",
        "  -w 'ffmpeg' \\\n",
        "  -i '/content/drive/MyDrive/faceswap/test_one/face_swap_video/nasty/nasty_for_convert.mp4' \\\n",
        "  -o '/content/drive/MyDrive/faceswap/test_one/result' \\\n",
        "  -al '/content/drive/MyDrive/faceswap/test_one/face_swap_align/nasty_for_convert.fsa' "
      ],
      "execution_count": null,
      "outputs": [
        {
          "name": "stdout",
          "output_type": "stream",
          "text": [
            "Setting Faceswap backend to NVIDIA\n",
            "09/28/2021 08:07:34 INFO     Log level set to: INFO\n",
            "09/28/2021 08:07:36 INFO     Reading alignments from: '/content/drive/MyDrive/faceswap/test_one/face_swap_align/nasty_for_convert.fsa'\n",
            "09/28/2021 08:07:36 INFO     Loading Writer from Ffmpeg plugin...\n",
            "09/28/2021 08:07:36 INFO     Loading Model from Dfaker plugin...\n",
            "09/28/2021 08:07:36 INFO     Using configuration saved in state file\n",
            "09/28/2021 08:07:40 INFO     Loaded model from disk: '/content/drive/MyDrive/faceswap/test_one/model/dfaker.h5'\n",
            "09/28/2021 08:07:40 INFO     Loading Mask from Box_Blend plugin...\n",
            "09/28/2021 08:07:40 INFO     Loading Mask from Mask_Blend plugin...\n",
            "09/28/2021 08:07:40 INFO     Loading Color from Avg_Color plugin...\n",
            "09/28/2021 08:07:40 INFO     Loading Scaling from Sharpen plugin...\n",
            "09/28/2021 08:07:43 INFO     Outputting to: '/content/drive/MyDrive/faceswap/test_one/result/nasty_for_convert_converted.mp4'\n",
            "Converting: 100% 1722/1723 [03:52<00:00,  7.40it/s]\n",
            "09/28/2021 08:11:30 INFO     Muxing Audio...\n",
            "09/28/2021 08:11:30 INFO     -------------------------\n",
            "09/28/2021 08:11:30 INFO     Images found:        1723\n",
            "09/28/2021 08:11:30 INFO     Faces detected:      1722\n",
            "09/28/2021 08:11:30 INFO     -------------------------\n",
            "09/28/2021 08:11:30 INFO     Process Succesfully Completed. Shutting Down...\n"
          ]
        }
      ]
    },
    {
      "cell_type": "code",
      "metadata": {
        "colab": {
          "base_uri": "https://localhost:8080/"
        },
        "id": "-un7w1zscSLi",
        "outputId": "51c3b59a-ab2b-4e10-fa3c-f026d2b4e9f3"
      },
      "source": [
        "print(\"dfdsf\")"
      ],
      "execution_count": null,
      "outputs": [
        {
          "name": "stdout",
          "output_type": "stream",
          "text": [
            "dfdsf\n"
          ]
        }
      ]
    },
    {
      "cell_type": "code",
      "metadata": {
        "colab": {
          "base_uri": "https://localhost:8080/"
        },
        "id": "ETUhcrSNIkk2",
        "outputId": "7fb05183-5a2b-42cf-b4ca-44a822e0a35f"
      },
      "source": [
        "!python3 faceswap/faceswap.py extract \\\n",
        "  -i '/content/drive/MyDrive/faceswap/test_6/video_for_convert/start2.MOV' \\\n",
        "  -o '/content/drive/MyDrive/faceswap/test_6/photos_for_swap/four' \\\n",
        "  -al '/content/drive/MyDrive/faceswap/test_6/alignments/nasty/alig5.fsa' \\\n",
        "  -D 's3fd' \\\n",
        "  -A 'fan' \\\n",
        "  -nm 'hist'\\\n",
        "  -M 'vgg-clear'"
      ],
      "execution_count": null,
      "outputs": [
        {
          "output_type": "stream",
          "name": "stdout",
          "text": [
            "Setting Faceswap backend to NVIDIA\n",
            "10/17/2021 13:29:10 INFO     Log level set to: INFO\n",
            "10/17/2021 13:29:13 INFO     Output Directory: /content/drive/MyDrive/faceswap/test_6/photos_for_swap/four\n",
            "10/17/2021 13:29:14 INFO     Loading Detect from S3Fd plugin...\n",
            "10/17/2021 13:29:14 INFO     Loading Align from Fan plugin...\n",
            "10/17/2021 13:29:14 INFO     Loading Mask from Components plugin...\n",
            "10/17/2021 13:29:14 INFO     Loading Mask from Extended plugin...\n",
            "10/17/2021 13:29:14 INFO     Loading Mask from Vgg_Clear plugin...\n",
            "10/17/2021 13:29:14 INFO     Downloading model: 'Nirkin_300_softmax' from: https://github.com/deepfakes-models/faceswap-models/releases/download/v1.8.1/Nirkin_300_softmax_v1.zip\n",
            "Downloading: 100% 440M/440M [00:07<00:00, 59.4MB/s]\n",
            "10/17/2021 13:29:22 INFO     Extracting: 'Nirkin_300_softmax'\n",
            "Decompressing: 100% 440M/440M [00:03<00:00, 132MB/s]\n",
            "10/17/2021 13:29:26 INFO     Starting, this may take a while...\n",
            "10/17/2021 13:29:26 INFO     Initializing S3FD (Detect)...\n",
            "10/17/2021 13:29:28 INFO     Initialized S3FD (Detect) with batchsize of 4\n",
            "10/17/2021 13:29:28 INFO     Initializing FAN (Align)...\n",
            "10/17/2021 13:29:41 INFO     Initialized FAN (Align) with batchsize of 12\n",
            "10/17/2021 13:29:41 INFO     Initializing Components (Mask)...\n",
            "10/17/2021 13:29:41 INFO     Initialized Components (Mask) with batchsize of 1\n",
            "10/17/2021 13:29:41 INFO     Initializing Extended (Mask)...\n",
            "10/17/2021 13:29:41 INFO     Initialized Extended (Mask) with batchsize of 1\n",
            "10/17/2021 13:29:42 INFO     Initializing VGG Clear (Mask)...\n",
            "10/17/2021 13:29:51 INFO     Initialized VGG Clear (Mask) with batchsize of 6\n",
            "Running pass 1 of 1: Extraction: 100% 1907/1907 [07:21<00:00,  4.32it/s]\n",
            "10/17/2021 13:37:12 INFO     Writing alignments to: '/content/drive/MyDrive/faceswap/test_6/alignments/nasty/alig5.fsa'\n",
            "10/17/2021 13:37:12 INFO     -------------------------\n",
            "10/17/2021 13:37:12 INFO     Images found:        1907\n",
            "10/17/2021 13:37:12 INFO     Faces detected:      1907\n",
            "10/17/2021 13:37:12 INFO     -------------------------\n",
            "10/17/2021 13:37:12 INFO     Process Succesfully Completed. Shutting Down...\n"
          ]
        }
      ]
    },
    {
      "cell_type": "code",
      "metadata": {
        "id": "N0KlqhOU_dhx"
      },
      "source": [
        ""
      ],
      "execution_count": null,
      "outputs": []
    }
  ]
}